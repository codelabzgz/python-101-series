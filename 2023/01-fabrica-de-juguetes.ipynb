{
 "cells": [
  {
   "cell_type": "markdown",
   "metadata": {},
   "source": [
    "## La fabrica de juguetes de Santa Claus\n",
    "\n",
    "En la fábrica de juguetes del Polo Norte, cada juguete se distingue por un número de identificación único. No obstante, a causa de un fallo en la maquinaria de producción de juguetes, algunos números se han asignado a más de un juguete.\n",
    "\n",
    "Tu misión consiste en encontrar el primer número de identificación que se repite, asegurándote de que **la segunda ocurrencia tenga el índice más pequeño**. En otras palabras, si hay varios números repetidos, debes retornar el número cuya segunda aparición se registre primero en la lista. En caso de no existir números repetidos, la respuesta será -1."
   ]
  },
  {
   "cell_type": "markdown",
   "metadata": {},
   "source": [
    "### Ejemplos"
   ]
  },
  {
   "cell_type": "code",
   "execution_count": null,
   "metadata": {},
   "outputs": [],
   "source": [
    "giftIds = [2, 1, 3, 5, 3, 2]\n",
    "firstRepeatedId = findFirstRepeated(giftIds)\n",
    "print(firstRepeatedId)  # 3\n",
    "\n",
    "# Aunque el 2 y el 3 se repiten\n",
    "# el 3 aparece primero por segunda vez"
   ]
  },
  {
   "cell_type": "code",
   "execution_count": null,
   "metadata": {},
   "outputs": [],
   "source": [
    "giftIds2 = [1, 2, 3, 4]\n",
    "firstRepeatedId2 = findFirstRepeated(giftIds2)\n",
    "print(firstRepeatedId2)  # -1\n",
    "\n",
    "# Es -1 dado que no se repite ningún número"
   ]
  },
  {
   "cell_type": "code",
   "execution_count": null,
   "metadata": {},
   "outputs": [],
   "source": [
    "giftIds3 = [5, 1, 5, 1]\n",
    "firstRepeatedId3 = findFirstRepeated(giftIds3)\n",
    "print(firstRepeatedId3)  # 5"
   ]
  },
  {
   "cell_type": "markdown",
   "metadata": {},
   "source": [
    "### Ejercicio\n",
    "Aquí tienes un ejemplo, aunque no es completamente correcta. Modifica la función o implementa un nuevo algoritmo para que pase todas las pruebas."
   ]
  },
  {
   "cell_type": "code",
   "execution_count": null,
   "metadata": {},
   "outputs": [],
   "source": [
    "def findFirstRepeated(giftIds: list) -> int:\n",
    "    \"\"\"\n",
    "    Función que recibe una lista de números enteros positivos\n",
    "    y devuelve el primer número que se repite, en caso de que\n",
    "    no se repita ninguno devuelve -1\n",
    "    \"\"\""
   ]
  },
  {
   "cell_type": "markdown",
   "metadata": {},
   "source": [
    "### Tests\n",
    "Para asegurar que tu implementación es correcta, puedes ejecutar la siguiente batería de tests. Si todos funcionan correctamente, ¡tu solución es válida!"
   ]
  },
  {
   "cell_type": "code",
   "execution_count": null,
   "metadata": {},
   "outputs": [],
   "source": [
    "import unittest\n",
    "\n",
    "class TestFindFirstRepeated(unittest.TestCase):\n",
    "    def test_example_1(self):\n",
    "        gift_ids = [2, 1, 3, 5, 3, 2]\n",
    "        result = findFirstRepeated(gift_ids)\n",
    "        self.assertEqual(result, 3)\n",
    "\n",
    "    def test_example_2(self):\n",
    "        gift_ids = [1, 2, 3, 4]\n",
    "        result = findFirstRepeated(gift_ids)\n",
    "        self.assertEqual(result, -1)\n",
    "\n",
    "    def test_example_3(self):\n",
    "        gift_ids = [5, 1, 5, 1]\n",
    "        result = findFirstRepeated(gift_ids)\n",
    "        self.assertEqual(result, 5)\n",
    "\n",
    "if __name__ == '__main__':\n",
    "    unittest.main(argv=['first-arg-is-ignored'], exit=False, verbosity=2)\n"
   ]
  }
 ],
 "metadata": {
  "kernelspec": {
   "display_name": "Python 3",
   "language": "python",
   "name": "python3"
  },
  "language_info": {
   "codemirror_mode": {
    "name": "ipython",
    "version": 3
   },
   "file_extension": ".py",
   "mimetype": "text/x-python",
   "name": "python",
   "nbconvert_exporter": "python",
   "pygments_lexer": "ipython3",
   "version": "3.11.4"
  }
 },
 "nbformat": 4,
 "nbformat_minor": 2
}
