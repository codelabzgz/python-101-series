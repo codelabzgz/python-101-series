{
 "cells": [
  {
   "cell_type": "markdown",
   "metadata": {},
   "source": [
    "## Unicode 2023 (Simplified)\n",
    "\n",
    "Este desafío encuentra su inspiración en el segundo problema de la [Unicode 2023](https://github.com/CodeLabZGZ/enunciados-hackathones/blob/main/Enunciado%20Unicode%202023.pdf), llevado a cabo el 18 de octubre por el equipo de CodeLab. Este evento marcó el inicio de una nueva etapa para la comunidad de programación competitiva en la Universidad de Zaragoza."
   ]
  },
  {
   "cell_type": "markdown",
   "metadata": {},
   "source": [
    "### Ejemplos"
   ]
  },
  {
   "cell_type": "code",
   "execution_count": null,
   "metadata": {},
   "outputs": [],
   "source": [
    "start = \"Zaragoza\"\n",
    "end = \"Badajoz\"\n",
    "city_data = {\"Zaragoza\":601.47,\"Madrid\":328.1,\"Badajoz\":0}\n",
    "city_relationships = [\n",
    "    (\"Zaragoza\",\"Madrid\"),\n",
    "    (\"Madrid\",\"Zaragoza\"),\n",
    "    (\"Madrid\",\"Badajoz\"),\n",
    "    (\"Badajoz\",\"Madrid\")\n",
    "]\n",
    "\n",
    "getMinPath(city_data, city_relationships, start, end)  # ['Zaragoza', 'Madrid', 'Badajoz']"
   ]
  },
  {
   "cell_type": "markdown",
   "metadata": {},
   "source": [
    "### Ejercicio"
   ]
  },
  {
   "cell_type": "code",
   "execution_count": null,
   "metadata": {},
   "outputs": [],
   "source": [
    "def getMinPath(city_data: [str, int], city_relationships: list[tuple], start: str, end: str) -> list:\n",
    "    \"\"\"\n",
    "    Dado un diccionario con las ciudades y sus distancias y una lista de tuplas con las relaciones entre ciudades,\n",
    "    devuelve una lista con el camino más corto entre dos ciudades y debe empezar por la ciudad de origen y terminar en la ciudad de destino (estar ordenado).\n",
    "    Cada ciudad tiene asociada una distancia a la ciudad de destino.\n",
    "    \"\"\""
   ]
  },
  {
   "cell_type": "markdown",
   "metadata": {},
   "source": [
    "### Tests"
   ]
  },
  {
   "cell_type": "code",
   "execution_count": null,
   "metadata": {},
   "outputs": [],
   "source": [
    "import unittest\n",
    "\n",
    "start, end = \"Zaragoza\", \"Badajoz\"\n",
    "city_data = {}\n",
    "city_relationships = []\n",
    "with open(\"node_values.txt\", 'r',  encoding='utf-8') as file:\n",
    "    for line in file:\n",
    "        city, value = line.strip().split(';')\n",
    "        city_data[city] = float(value)\n",
    "\n",
    "with open(\"relationships.txt\", 'r', encoding='utf-8') as file:\n",
    "    for line in file:\n",
    "        citya, cityb, _ = line.strip().split(';')\n",
    "        city_relationships.append((citya, cityb))\n",
    "        city_relationships.append((cityb, citya))\n",
    "\n",
    "class TestFindFirstRepeated(unittest.TestCase):\n",
    "    def test_example_1(self):\n",
    "        result = getMinPath(city_data, city_relationships, start, end)\n",
    "        self.assertEqual(result, ['Zaragoza', 'Teruel', 'Madrid', 'Salamanca', 'Badajoz'])\n",
    "\n",
    "if __name__ == '__main__':\n",
    "    unittest.main(argv=['first-arg-is-ignored'], exit=False, verbosity=2)"
   ]
  }
 ],
 "metadata": {
  "language_info": {
   "name": "python"
  }
 },
 "nbformat": 4,
 "nbformat_minor": 2
}
