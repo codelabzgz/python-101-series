{
 "cells": [
  {
   "cell_type": "markdown",
   "metadata": {},
   "source": [
    "## Un elfo travieso\n",
    "\n",
    "En el taller de Santa, un elfo travieso ha intervenido en la cadena de producción de regalos, introduciendo o eliminando un paso no previsto.\n",
    "\n",
    "Posees la secuencia original de pasos en la fabricación y la secuencia modificada que puede presentar un paso adicional o carecer de uno.\n",
    "\n",
    "Tu tarea consiste en crear una función que **identifique y retorne el primer paso adicional o eliminado en la cadena de producción**. En caso de que no haya ninguna discrepancia entre las secuencias, la función deberá devolver una cadena vacía."
   ]
  },
  {
   "cell_type": "markdown",
   "metadata": {},
   "source": [
    "### Ejemplos"
   ]
  },
  {
   "cell_type": "code",
   "execution_count": null,
   "metadata": {},
   "outputs": [],
   "source": [
    "original = 'abcd'\n",
    "modified = 'abcde'\n",
    "findNaughtyStep(original, modified)  # 'e'"
   ]
  },
  {
   "cell_type": "code",
   "execution_count": null,
   "metadata": {},
   "outputs": [],
   "source": [
    "original = 'stepfor'\n",
    "modified = 'stepor'\n",
    "findNaughtyStep(original, modified)  # 'f'"
   ]
  },
  {
   "cell_type": "code",
   "execution_count": null,
   "metadata": {},
   "outputs": [],
   "source": [
    "original = 'abcde'\n",
    "modified = 'abcde'\n",
    "findNaughtyStep(original, modified)  # ''"
   ]
  },
  {
   "cell_type": "markdown",
   "metadata": {},
   "source": [
    "### Ejercicio"
   ]
  },
  {
   "cell_type": "markdown",
   "metadata": {},
   "source": [
    "- Siempre habrá un paso de diferencia o ninguno.\n",
    "- La modificación puede ocurrir en cualquier lugar de la cadena.\n",
    "- La secuencia original puede estar vacía"
   ]
  },
  {
   "cell_type": "code",
   "execution_count": null,
   "metadata": {},
   "outputs": [],
   "source": [
    "def findNaughtyStep(original: str, modified: str) -> str:\n",
    "    \"\"\"\n",
    "    Función que recibe dos cadenas de caracteres, una original y otra modificada\n",
    "    y devuelve el carácter que ha sido modificado.\n",
    "    \"\"\""
   ]
  },
  {
   "cell_type": "markdown",
   "metadata": {},
   "source": [
    "### Tests"
   ]
  },
  {
   "cell_type": "code",
   "execution_count": null,
   "metadata": {},
   "outputs": [],
   "source": [
    "import unittest\n",
    "\n",
    "class TestFindNaughtyStep(unittest.TestCase):\n",
    "    def test_example_1(self):\n",
    "        original = 'abcd'\n",
    "        modified = 'abcde'\n",
    "        result = findNaughtyStep(original, modified)\n",
    "        self.assertEqual(result, 'e')\n",
    "\n",
    "    def test_example_2(self):\n",
    "        original = 'stepfor'\n",
    "        modified = 'stepor'\n",
    "        result = findNaughtyStep(original, modified)\n",
    "        self.assertEqual(result, 'f')\n",
    "\n",
    "    def test_example_3(self):\n",
    "        original = 'abcde'\n",
    "        modified = 'abcde'\n",
    "        result = findNaughtyStep(original, modified)\n",
    "        self.assertEqual(result, '')\n",
    "\n",
    "if __name__ == '__main__':\n",
    "    unittest.main(argv=['first-arg-is-ignored'], exit=False, verbosity=2)\n"
   ]
  }
 ],
 "metadata": {
  "kernelspec": {
   "display_name": "Python 3",
   "language": "python",
   "name": "python3"
  },
  "language_info": {
   "codemirror_mode": {
    "name": "ipython",
    "version": 3
   },
   "file_extension": ".py",
   "mimetype": "text/x-python",
   "name": "python",
   "nbconvert_exporter": "python",
   "pygments_lexer": "ipython3",
   "version": "3.11.4"
  }
 },
 "nbformat": 4,
 "nbformat_minor": 2
}
