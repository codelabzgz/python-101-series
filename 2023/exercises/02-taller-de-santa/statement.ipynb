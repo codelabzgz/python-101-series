{
 "cells": [
  {
   "cell_type": "markdown",
   "metadata": {},
   "source": [
    "## El taller de Santa Claus\n",
    "\n",
    "En el taller de Santa, los elfos gestionan una lista de regalos que aspiran a elaborar, contando con un conjunto restringido de materiales.\n",
    "\n",
    "Los regalos son representados por cadenas de texto, mientras que los materiales se identifican mediante caracteres. Tu cometido consiste en desarrollar una función que, al recibir una lista de regalos y los materiales disponibles, retorne una lista con aquellos regalos que pueden ser confeccionados.\n",
    "\n",
    "Un regalo es considerado fabricable únicamente si se disponen de todos los materiales necesarios para su producción."
   ]
  },
  {
   "cell_type": "markdown",
   "metadata": {},
   "source": [
    "### Ejemplos"
   ]
  },
  {
   "cell_type": "code",
   "execution_count": null,
   "metadata": {},
   "outputs": [],
   "source": [
    "gifts = ['tren', 'oso', 'pelota']\n",
    "materials = 'tronesa'\n",
    "\n",
    "manufacture(gifts, materials)  # [\"tren\", \"oso\"]\n",
    "# 'tren' SÍ porque sus letras están en 'tronesa'\n",
    "# 'oso' SÍ porque sus letras están en 'tronesa'\n",
    "# 'pelota' NO porque sus letras NO están en 'tronesa'"
   ]
  },
  {
   "cell_type": "code",
   "execution_count": null,
   "metadata": {},
   "outputs": [],
   "source": [
    "gifts = ['juego', 'puzzle']\n",
    "materials = 'jlepuz'\n",
    "\n",
    "manufacture(gifts, materials)  # [\"puzzle\"]"
   ]
  },
  {
   "cell_type": "code",
   "execution_count": null,
   "metadata": {},
   "outputs": [],
   "source": [
    "gifts = ['libro', 'ps5']\n",
    "materials = 'psli'\n",
    "\n",
    "manufacture(gifts, materials)  # []"
   ]
  },
  {
   "cell_type": "markdown",
   "metadata": {},
   "source": [
    "### Ejercicio\n"
   ]
  },
  {
   "cell_type": "code",
   "execution_count": null,
   "metadata": {},
   "outputs": [],
   "source": [
    "def manufacture(gifts: [str], materials: str) -> [str]:\n",
    "    \"\"\"\n",
    "    Función que recibe una lista de regalos y una cadena de materiales y\n",
    "    devuelve una lista con los regalos que se pueden fabricar con los\n",
    "    materiales disponibles.\n",
    "    \"\"\""
   ]
  },
  {
   "cell_type": "markdown",
   "metadata": {},
   "source": [
    "### Tests"
   ]
  },
  {
   "cell_type": "code",
   "execution_count": null,
   "metadata": {},
   "outputs": [],
   "source": [
    "import unittest\n",
    "\n",
    "class TestManufactureFunction(unittest.TestCase):\n",
    "    def test_example_1(self):\n",
    "        gifts = ['tren', 'oso', 'pelota']\n",
    "        materials = 'tronesa'\n",
    "        result = manufacture(gifts, materials)\n",
    "        self.assertEqual(result, [\"tren\", \"oso\"])\n",
    "\n",
    "    def test_example_2(self):\n",
    "        gifts = ['juego', 'puzzle']\n",
    "        materials = 'jlepuz'\n",
    "        result = manufacture(gifts, materials)\n",
    "        self.assertEqual(result, [\"puzzle\"])\n",
    "\n",
    "    def test_example_3(self):\n",
    "        gifts = ['libro', 'ps5']\n",
    "        materials = 'psli'\n",
    "        result = manufacture(gifts, materials)\n",
    "        self.assertEqual(result, [])\n",
    "\n",
    "if __name__ == '__main__':\n",
    "    unittest.main(argv=['first-arg-is-ignored'], exit=False, verbosity=2)\n"
   ]
  }
 ],
 "metadata": {
  "kernelspec": {
   "display_name": "Python 3",
   "language": "python",
   "name": "python3"
  },
  "language_info": {
   "codemirror_mode": {
    "name": "ipython",
    "version": 3
   },
   "file_extension": ".py",
   "mimetype": "text/x-python",
   "name": "python",
   "nbconvert_exporter": "python",
   "pygments_lexer": "ipython3",
   "version": "3.11.4"
  }
 },
 "nbformat": 4,
 "nbformat_minor": 2
}
