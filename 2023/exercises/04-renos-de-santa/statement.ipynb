{
 "cells": [
  {
   "cell_type": "markdown",
   "metadata": {},
   "source": [
    "## Renos de Santa Claus\n",
    "\n",
    "Los elfos están clasificando a los renos de Santa 🦌 según la distancia que son capaces de recorrer.\n",
    "\n",
    "Para llevar a cabo esta tarea, disponen de una cadena de texto llamada `movements`, donde cada carácter representa la dirección del movimiento del reno:\n",
    "\n",
    "- **> = Avanza a la derecha**\n",
    "- **< = Avanza a la izquierda**\n",
    "- **\\* = Puede avanzar o retroceder**\n",
    "\n",
    "Por ejemplo, si la secuencia de movimientos es `>>*<` el reno se desplaza hacia la derecha dos veces, luego tiene la opción de moverse a la derecha o a la izquierda (optando por lo que maximice la distancia recorrida final), y finalmente, se mueve a la izquierda.\n",
    "\n",
    "Los elfos desean conocer cuál es la máxima distancia que recorre el reno al **completar todos los movimientos**.\n",
    "\n",
    "**En el ejemplo anterior, la máxima distancia recorrida por el reno es `2`**. Primero avanza a la derecha dos veces `+2`, luego con el asterisco `*` tiene la opción de ir a la derecha otra vez para maximizar la distancia `+1`, y finalmente se desplaza a la izquierda `-1`.\n",
    "\n",
    "A continuación, se presenta una función llamada `maxDistance` que recibe la cadena de texto `movements` y devuelve **la máxima distancia** que el reno puede recorrer **en cualquier dirección**:"
   ]
  },
  {
   "cell_type": "markdown",
   "metadata": {},
   "source": [
    "### Ejemplos"
   ]
  },
  {
   "cell_type": "code",
   "execution_count": null,
   "metadata": {},
   "outputs": [],
   "source": [
    "movements = '>>*<'\n",
    "result = maxDistance(movements)\n",
    "print(result)  # -> 2"
   ]
  },
  {
   "cell_type": "code",
   "execution_count": null,
   "metadata": {},
   "outputs": [],
   "source": [
    "movements2 = '<<<>'\n",
    "result2 = maxDistance(movements2)\n",
    "print(result2)  # -> 2"
   ]
  },
  {
   "cell_type": "code",
   "execution_count": null,
   "metadata": {},
   "outputs": [],
   "source": [
    "movements3 = '>***>'\n",
    "result3 = maxDistance(movements3)\n",
    "print(result3)  # -> 5"
   ]
  },
  {
   "cell_type": "markdown",
   "metadata": {},
   "source": [
    "### Ejercicio"
   ]
  },
  {
   "cell_type": "markdown",
   "metadata": {},
   "source": [
    "Ten en cuenta que no importa si es a la izquierda o la derecha, la distancia es **el valor absoluto de la distancia recorrida máxima al finalizar los movimientos**."
   ]
  },
  {
   "cell_type": "code",
   "execution_count": null,
   "metadata": {},
   "outputs": [],
   "source": [
    "def maxDistance(movements: str) -> int:\n",
    "    \"\"\"\n",
    "    Función que recibe una cadena de caracteres que representa los movimientos\n",
    "    y devuelve la máxima distancia que se aleja de la posición inicial.\n",
    "    \"\"\""
   ]
  },
  {
   "cell_type": "markdown",
   "metadata": {},
   "source": [
    "### Tests"
   ]
  },
  {
   "cell_type": "code",
   "execution_count": null,
   "metadata": {},
   "outputs": [],
   "source": [
    "import unittest\n",
    "\n",
    "class TestMaxDistance(unittest.TestCase):\n",
    "    def test_example_1(self):\n",
    "        movements = '>>*<'\n",
    "        result = maxDistance(movements)\n",
    "        self.assertEqual(result, 2)\n",
    "\n",
    "    def test_example_2(self):\n",
    "        movements = '<<<>'\n",
    "        result = maxDistance(movements)\n",
    "        self.assertEqual(result, 2)\n",
    "\n",
    "    def test_example_3(self):\n",
    "        movements = '>***>'\n",
    "        result = maxDistance(movements)\n",
    "        self.assertEqual(result, 5)\n",
    "\n",
    "if __name__ == '__main__':\n",
    "    unittest.main(argv=['first-arg-is-ignored'], exit=False, verbosity=2)"
   ]
  }
 ],
 "metadata": {
  "kernelspec": {
   "display_name": "Python 3",
   "language": "python",
   "name": "python3"
  },
  "language_info": {
   "codemirror_mode": {
    "name": "ipython",
    "version": 3
   },
   "file_extension": ".py",
   "mimetype": "text/x-python",
   "name": "python",
   "nbconvert_exporter": "python",
   "pygments_lexer": "ipython3",
   "version": "3.11.4"
  }
 },
 "nbformat": 4,
 "nbformat_minor": 2
}
