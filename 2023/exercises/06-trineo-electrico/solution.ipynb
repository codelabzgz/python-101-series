{
 "cells": [
  {
   "cell_type": "markdown",
   "metadata": {},
   "source": [
    "## Trineo de Santa 🎅\n",
    "\n",
    "Santa 🎅 está probando su nuevo trineo eléctrico, el CyberReindeer, en una carretera del Polo Norte. La carretera se representa mediante una cadena de caracteres, donde:\n",
    "\n",
    "- `.` = Carretera\n",
    "- `S` = Trineo de Santa\n",
    "- `*` = Barrera abierta\n",
    "- `|` = Barrera cerrada\n",
    "Ejemplo de carretera: `S...|....|.....`\n",
    "\n",
    "En cada unidad de tiempo, **el trineo avanza una posición a la derecha**. Si encuentra una barrera cerrada, se detiene hasta que la barrera se abra. Si está abierta, la atraviesa directamente.\n",
    "\n",
    "**Todas las barreras comienzan cerradas**, pero después de 5 unidades de tiempo, se abren todas de manera **permanente**.\n",
    "\n",
    "Tu tarea consiste en crear una función que **simule el movimiento del trineo** durante un tiempo determinado y **devuelva un array** de cadenas que representen el estado de la carretera en cada unidad de tiempo. ¡Acompañemos a Santa en su emocionante travesía invernal! ❄️🛷"
   ]
  },
  {
   "cell_type": "markdown",
   "metadata": {},
   "source": [
    "### Ejemplos"
   ]
  },
  {
   "cell_type": "code",
   "execution_count": null,
   "metadata": {},
   "outputs": [],
   "source": [
    "road = 'S..|...|..'\n",
    "time = 10  # unidades de tiempo\n",
    "result = cyberReindeer(road, time)\n",
    "\n",
    "\"\"\" -> result:\n",
    "[\n",
    "  'S..|...|..', // estado inicial\n",
    "  '.S.|...|..', // avanza el trineo la carretera\n",
    "  '..S|...|..', // avanza el trineo la carretera\n",
    "  '..S|...|..', // el trineo para en la barrera\n",
    "  '..S|...|..', // el trineo para en la barrera\n",
    "  '...S...*..', // se abre la barrera, el trineo avanza\n",
    "  '...*S..*..', // avanza el trineo la carretera\n",
    "  '...*.S.*..', // avanza el trineo la carretera\n",
    "  '...*..S*..', // avanza el trineo la carretera\n",
    "  '...*...S..', // avanza por la barrera abierta\n",
    "]\n",
    "\"\"\""
   ]
  },
  {
   "cell_type": "markdown",
   "metadata": {},
   "source": [
    "### Ejercicio"
   ]
  },
  {
   "cell_type": "markdown",
   "metadata": {},
   "source": [
    "- El resultado es un array donde cada elemento muestra la carretera en cada unidad de tiempo.\n",
    "- Ten en cuenta que si el trineo está en la misma posición que una barrera, entonces toma su lugar en el array."
   ]
  },
  {
   "cell_type": "code",
   "execution_count": 1,
   "metadata": {},
   "outputs": [],
   "source": [
    "def cyberReindeer(road: str, time: int) -> [str]:\n",
    "    \"\"\"\n",
    "    Recibe un string que representa una carretera y un entero que representa el\n",
    "    número de unidades de tiempo que se van a simular. El string de la carretera\n",
    "    contiene los siguientes caracteres:\n",
    "    - \".\" = Carretera\n",
    "    - \"S\" = Trineo de Santa\n",
    "    - \"*\" = Barrera abierta\n",
    "    - \"|\" = Barrera cerrada\n",
    "    La función devuelve una lista de strings que representan el estado de la carretera en\n",
    "    cada unidad de tiempo.\n",
    "    \"\"\"\n",
    "    states = [road]  # Estado inicial\n",
    "    items = list(road)\n",
    "    position = items.index('S')\n",
    "    pre = items[position + 1] if position + 1 < len(items) else '.'\n",
    "\n",
    "    for tik in range(1, time):\n",
    "        # Abrir todas las barreras después del quinto tik\n",
    "        if tik >= 5:\n",
    "            for i in range(len(items)):\n",
    "                if items[i] == '|':\n",
    "                    items[i] = '*'\n",
    "\n",
    "        if position + 1 < len(items) and items[position + 1] != '|':\n",
    "            items[position] = pre     # current = previous value\n",
    "            pre = items[position + 1] if position + 1 < len(items) else '.'\n",
    "            items[position + 1] = 'S' # next = trineo\n",
    "            position += 1\n",
    "\n",
    "        states.append(''.join(items))  # Guardar el estado en cada unidad de tiempo\n",
    "\n",
    "    return states"
   ]
  },
  {
   "cell_type": "markdown",
   "metadata": {},
   "source": [
    "### Tests"
   ]
  },
  {
   "cell_type": "code",
   "execution_count": 2,
   "metadata": {},
   "outputs": [
    {
     "name": "stderr",
     "output_type": "stream",
     "text": [
      "test_example_1 (__main__.TestCyberReindeer.test_example_1) ... ok\n",
      "\n",
      "----------------------------------------------------------------------\n",
      "Ran 1 test in 0.001s\n",
      "\n",
      "OK\n"
     ]
    }
   ],
   "source": [
    "import unittest\n",
    "\n",
    "class TestCyberReindeer(unittest.TestCase):\n",
    "    def test_example_1(self):\n",
    "        road = 'S..|...|..'\n",
    "        time = 10\n",
    "        result = cyberReindeer(road, time)\n",
    "        expected_result = [\n",
    "            'S..|...|..',   # estado inicial\n",
    "            '.S.|...|..',   # avanza el trineo en la carretera\n",
    "            '..S|...|..',   # avanza el trineo en la carretera\n",
    "            '..S|...|..',   # el trineo se detiene en la barrera\n",
    "            '..S|...|..',   # el trineo se detiene en la barrera\n",
    "            '...S...*..',   # la barrera se abre, el trineo avanza\n",
    "            '...*S..*..',   # avanza el trineo en la carretera\n",
    "            '...*.S.*..',   # avanza el trineo en la carretera\n",
    "            '...*..S*..',   # avanza el trineo en la carretera\n",
    "            '...*...S..'    # avanza por la barrera abierta\n",
    "        ]\n",
    "        self.assertEqual(result, expected_result)\n",
    "\n",
    "if __name__ == '__main__':\n",
    "    unittest.main(argv=['first-arg-is-ignored'], exit=False, verbosity=2)"
   ]
  }
 ],
 "metadata": {
  "kernelspec": {
   "display_name": "Python 3",
   "language": "python",
   "name": "python3"
  },
  "language_info": {
   "codemirror_mode": {
    "name": "ipython",
    "version": 3
   },
   "file_extension": ".py",
   "mimetype": "text/x-python",
   "name": "python",
   "nbconvert_exporter": "python",
   "pygments_lexer": "ipython3",
   "version": "3.12.3"
  }
 },
 "nbformat": 4,
 "nbformat_minor": 2
}
