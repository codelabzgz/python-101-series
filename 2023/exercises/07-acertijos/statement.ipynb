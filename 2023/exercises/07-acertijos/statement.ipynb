{
 "cells": [
  {
   "cell_type": "markdown",
   "metadata": {},
   "source": [
    "## Acertijos\n",
    "\n",
    "En el taller de Santa, los elfos disfrutan de los acertijos 🧠. Este año, han diseñado uno especial: un desafío para crear un palíndromo navideño.\n",
    "\n",
    "**Un palíndromo es una palabra que se lee igual hacia adelante y hacia atrás**. Los elfos quieren determinar si es factible formar un palíndromo realizando, como máximo, un intercambio de letras.\n",
    "\n",
    "Tu misión es crear una función llamada `getIndexsForPalindrome`` que, al recibir una cadena de caracteres, proporcionará:\n",
    "\n",
    "- Si la cadena ya es un palíndromo, devolverá un array vacío.\n",
    "- Si no es posible formar un palíndromo, devolverá null.\n",
    "- En caso de que se pueda crear un palíndromo con un solo intercambio, la función retornará un array con las dos posiciones (índices) que deben intercambiarse para lograrlo. ¡Acepta el reto y descubre el misterio palindrómico de los elfos! 🎄🕵️‍♂️"
   ]
  },
  {
   "cell_type": "markdown",
   "metadata": {},
   "source": [
    "### Ejemplos"
   ]
  },
  {
   "cell_type": "code",
   "execution_count": null,
   "metadata": {},
   "outputs": [],
   "source": [
    "getIndexsForPalindrome('anna')  # []\n",
    "getIndexsForPalindrome('abab')  # [0, 1]\n",
    "getIndexsForPalindrome('abac')  # null\n",
    "getIndexsForPalindrome('aaaaaaaa') # []\n",
    "getIndexsForPalindrome('aaababa')  # [1, 3]\n",
    "getIndexsForPalindrome('caababa')  # null"
   ]
  },
  {
   "cell_type": "markdown",
   "metadata": {},
   "source": [
    "### Ejercicio"
   ]
  },
  {
   "cell_type": "markdown",
   "metadata": {},
   "source": [
    "Si se puede formar el palíndromo con diferentes intercambios, siempre se debe devolver el primero que se encuentre."
   ]
  },
  {
   "cell_type": "code",
   "execution_count": null,
   "metadata": {},
   "outputs": [],
   "source": [
    "def getIndexsForPalindrome(word: str) -> list:\n",
    "    \"\"\"\n",
    "    Función que recibe una palabra y devuelve una lista con los índices\n",
    "    que se deben eliminar para que la palabra sea un palíndromo.\n",
    "    \"\"\""
   ]
  },
  {
   "cell_type": "markdown",
   "metadata": {},
   "source": [
    "### Tests"
   ]
  },
  {
   "cell_type": "code",
   "execution_count": null,
   "metadata": {},
   "outputs": [],
   "source": [
    "import unittest\n",
    "\n",
    "class TestGetIndexsForPalindrome(unittest.TestCase):\n",
    "    def test_example_1(self):\n",
    "        result = getIndexsForPalindrome('anna')\n",
    "        self.assertEqual(result, [])\n",
    "\n",
    "    def test_example_2(self):\n",
    "        result = getIndexsForPalindrome('abab')\n",
    "        self.assertEqual(result, [0, 1])\n",
    "\n",
    "    def test_example_3(self):\n",
    "        result = getIndexsForPalindrome('abac')\n",
    "        self.assertIsNone(result)\n",
    "\n",
    "    def test_example_4(self):\n",
    "        result = getIndexsForPalindrome('aaaaaaaa')\n",
    "        self.assertEqual(result, [])\n",
    "\n",
    "    def test_example_5(self):\n",
    "        result = getIndexsForPalindrome('aaababa')\n",
    "        self.assertEqual(result, [1, 3])\n",
    "\n",
    "    def test_example_6(self):\n",
    "        result = getIndexsForPalindrome('caababa')\n",
    "        self.assertIsNone(result)\n",
    "\n",
    "if __name__ == '__main__':\n",
    "    unittest.main(argv=['first-arg-is-ignored'], exit=False, verbosity=2)"
   ]
  }
 ],
 "metadata": {
  "kernelspec": {
   "display_name": "Python 3",
   "language": "python",
   "name": "python3"
  },
  "language_info": {
   "codemirror_mode": {
    "name": "ipython",
    "version": 3
   },
   "file_extension": ".py",
   "mimetype": "text/x-python",
   "name": "python",
   "nbconvert_exporter": "python",
   "pygments_lexer": "ipython3",
   "version": "3.12.0"
  }
 },
 "nbformat": 4,
 "nbformat_minor": 2
}
