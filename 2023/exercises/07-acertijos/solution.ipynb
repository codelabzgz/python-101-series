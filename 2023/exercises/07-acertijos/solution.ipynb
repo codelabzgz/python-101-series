{
 "cells": [
  {
   "cell_type": "markdown",
   "metadata": {},
   "source": [
    "## Acertijos\n",
    "\n",
    "En el taller de Santa, los elfos disfrutan de los acertijos 🧠. Este año, han diseñado uno especial: un desafío para crear un palíndromo navideño.\n",
    "\n",
    "**Un palíndromo es una palabra que se lee igual hacia adelante y hacia atrás**. Los elfos quieren determinar si es factible formar un palíndromo realizando, como máximo, un intercambio de letras.\n",
    "\n",
    "Tu misión es crear una función llamada `getIndexsForPalindrome`` que, al recibir una cadena de caracteres, proporcionará:\n",
    "\n",
    "- Si la cadena ya es un palíndromo, devolverá un array vacío.\n",
    "- Si no es posible formar un palíndromo, devolverá null.\n",
    "- En caso de que se pueda crear un palíndromo con un solo intercambio, la función retornará un array con las dos posiciones (índices) que deben intercambiarse para lograrlo. ¡Acepta el reto y descubre el misterio palindrómico de los elfos! 🎄🕵️‍♂️"
   ]
  },
  {
   "cell_type": "markdown",
   "metadata": {},
   "source": [
    "### Ejemplos"
   ]
  },
  {
   "cell_type": "code",
   "execution_count": null,
   "metadata": {},
   "outputs": [],
   "source": [
    "getIndexsForPalindrome('anna')  # []\n",
    "getIndexsForPalindrome('abab')  # [0, 1]\n",
    "getIndexsForPalindrome('abac')  # null\n",
    "getIndexsForPalindrome('aaaaaaaa') # []\n",
    "getIndexsForPalindrome('aaababa')  # [1, 3]\n",
    "getIndexsForPalindrome('caababa')  # null"
   ]
  },
  {
   "cell_type": "markdown",
   "metadata": {},
   "source": [
    "### Ejercicio"
   ]
  },
  {
   "cell_type": "markdown",
   "metadata": {},
   "source": [
    "Si se puede formar el palíndromo con diferentes intercambios, siempre se debe devolver el primero que se encuentre."
   ]
  },
  {
   "cell_type": "code",
   "execution_count": 1,
   "metadata": {},
   "outputs": [],
   "source": [
    "def isPalindrome(word: str) -> bool:\n",
    "    return word == word[::-1]\n",
    "\n",
    "def getIndexsForPalindrome(word: str) -> list:\n",
    "    \"\"\"\n",
    "    Función que recibe una palabra y devuelve una lista con los índices\n",
    "    que se deben eliminar para que la palabra sea un palíndromo.\n",
    "    \"\"\"\n",
    "    if isPalindrome(word):\n",
    "        return []\n",
    "    for i in range(len(word)):\n",
    "        for j in range(i + 1, len(word)):\n",
    "            s_n = list(word)\n",
    "            s_n[i], s_n[j] = s_n[j], s_n[i]\n",
    "            s_n = ''.join(s_n)\n",
    "            if isPalindrome(s_n):\n",
    "                return [i, j]\n",
    "    return None"
   ]
  },
  {
   "cell_type": "markdown",
   "metadata": {},
   "source": [
    "### Tests"
   ]
  },
  {
   "cell_type": "code",
   "execution_count": 2,
   "metadata": {},
   "outputs": [
    {
     "name": "stderr",
     "output_type": "stream",
     "text": [
      "test_example_1 (__main__.TestGetIndexsForPalindrome.test_example_1) ... ok\n",
      "test_example_2 (__main__.TestGetIndexsForPalindrome.test_example_2) ... ok\n",
      "test_example_3 (__main__.TestGetIndexsForPalindrome.test_example_3) ... ok\n",
      "test_example_4 (__main__.TestGetIndexsForPalindrome.test_example_4) ... ok\n",
      "test_example_5 (__main__.TestGetIndexsForPalindrome.test_example_5) ... ok\n",
      "test_example_6 (__main__.TestGetIndexsForPalindrome.test_example_6) ... ok\n",
      "\n",
      "----------------------------------------------------------------------\n",
      "Ran 6 tests in 0.006s\n",
      "\n",
      "OK\n"
     ]
    }
   ],
   "source": [
    "import unittest\n",
    "\n",
    "class TestGetIndexsForPalindrome(unittest.TestCase):\n",
    "    def test_example_1(self):\n",
    "        result = getIndexsForPalindrome('anna')\n",
    "        self.assertEqual(result, [])\n",
    "\n",
    "    def test_example_2(self):\n",
    "        result = getIndexsForPalindrome('abab')\n",
    "        self.assertEqual(result, [0, 1])\n",
    "\n",
    "    def test_example_3(self):\n",
    "        result = getIndexsForPalindrome('abac')\n",
    "        self.assertIsNone(result)\n",
    "\n",
    "    def test_example_4(self):\n",
    "        result = getIndexsForPalindrome('aaaaaaaa')\n",
    "        self.assertEqual(result, [])\n",
    "\n",
    "    def test_example_5(self):\n",
    "        result = getIndexsForPalindrome('aaababa')\n",
    "        self.assertEqual(result, [1, 3])\n",
    "\n",
    "    def test_example_6(self):\n",
    "        result = getIndexsForPalindrome('caababa')\n",
    "        self.assertIsNone(result)\n",
    "\n",
    "if __name__ == '__main__':\n",
    "    unittest.main(argv=['first-arg-is-ignored'], exit=False, verbosity=2)"
   ]
  }
 ],
 "metadata": {
  "kernelspec": {
   "display_name": "Python 3",
   "language": "python",
   "name": "python3"
  },
  "language_info": {
   "codemirror_mode": {
    "name": "ipython",
    "version": 3
   },
   "file_extension": ".py",
   "mimetype": "text/x-python",
   "name": "python",
   "nbconvert_exporter": "python",
   "pygments_lexer": "ipython3",
   "version": "3.12.3"
  }
 },
 "nbformat": 4,
 "nbformat_minor": 2
}
