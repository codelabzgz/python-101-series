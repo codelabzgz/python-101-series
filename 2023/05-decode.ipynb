{
 "cells": [
  {
   "cell_type": "markdown",
   "metadata": {},
   "source": [
    "## Decode\n",
    "\n",
    "En el taller de Santa 🎅, se han encontrado mensajes navideños escritos de manera peculiar: las letras dentro de los paréntesis deben leerse al revés.\n",
    "\n",
    "Santa necesita estos mensajes correctamente formateados. Para lograrlo, tu tarea consiste en desarrollar una función que tome una cadena de texto, revierta los caracteres dentro de cada par de paréntesis y elimine los paréntesis en el mensaje final.\n",
    "\n",
    "Es importante tener en cuenta que pueden existir paréntesis anidados, por lo que debes invertir los caracteres en el orden correcto. ¡Manos a la obra para darle a Santa mensajes navideños en perfecto orden! 🎄"
   ]
  },
  {
   "cell_type": "markdown",
   "metadata": {},
   "source": [
    "### Ejemplos"
   ]
  },
  {
   "cell_type": "code",
   "execution_count": null,
   "metadata": {},
   "outputs": [],
   "source": [
    "a = decode('hola (odnum)')\n",
    "print(a)  # hola mundo"
   ]
  },
  {
   "cell_type": "code",
   "execution_count": null,
   "metadata": {},
   "outputs": [],
   "source": [
    "b = decode('(olleh) (dlrow)!')\n",
    "print(b)  # hello world!"
   ]
  },
  {
   "cell_type": "code",
   "execution_count": null,
   "metadata": {},
   "outputs": [],
   "source": [
    "c = decode('sa(u(cla)atn)s')\n",
    "print(c)  # santaclaus\n",
    "\n",
    "# Paso a paso:\n",
    "# 1. Invertimos el anidado -> sa(ualcatn)s\n",
    "# 2. Invertimos el que queda -> santaclaus"
   ]
  },
  {
   "cell_type": "markdown",
   "metadata": {},
   "source": [
    "### Ejercicio"
   ]
  },
  {
   "cell_type": "markdown",
   "metadata": {},
   "source": [
    "- Las cadenas de entrada siempre estarán bien formadas con paréntesis que coinciden correctamente, no necesitas validarlos.\n",
    "- En el mensaje final no deben quedar paréntesis.\n",
    "- El nivel máximo de anidamiento es 2."
   ]
  },
  {
   "cell_type": "code",
   "execution_count": null,
   "metadata": {},
   "outputs": [],
   "source": [
    "import re\n",
    "\n",
    "def decode(s: str) -> str:\n",
    "    \"\"\"\n",
    "    Decodifica una cadena de texto anidada. La cadena de texto anidada\n",
    "    se compone de una cadena de texto normal y una cadena de texto\n",
    "    invertida entre paréntesis. La cadena de texto invertida puede\n",
    "    contener otra cadena de texto anidada.\n",
    "    \"\"\""
   ]
  },
  {
   "cell_type": "markdown",
   "metadata": {},
   "source": [
    "### Tests"
   ]
  },
  {
   "cell_type": "code",
   "execution_count": null,
   "metadata": {},
   "outputs": [],
   "source": [
    "import unittest\n",
    "\n",
    "class TestDecode(unittest.TestCase):\n",
    "    def test_example_1(self):\n",
    "        result = decode('hola (odnum)')\n",
    "        self.assertEqual(result, 'hola mundo')\n",
    "\n",
    "    def test_example_2(self):\n",
    "        result = decode('(olleh) (dlrow)!')\n",
    "        self.assertEqual(result, 'hello world!')\n",
    "\n",
    "    def test_example_3(self):\n",
    "        result = decode('sa(u(cla)atn)s')\n",
    "        self.assertEqual(result, 'santaclaus')\n",
    "\n",
    "if __name__ == '__main__':\n",
    "    unittest.main(argv=['first-arg-is-ignored'], exit=False, verbosity=2)"
   ]
  }
 ],
 "metadata": {
  "kernelspec": {
   "display_name": "Python 3",
   "language": "python",
   "name": "python3"
  },
  "language_info": {
   "codemirror_mode": {
    "name": "ipython",
    "version": 3
   },
   "file_extension": ".py",
   "mimetype": "text/x-python",
   "name": "python",
   "nbconvert_exporter": "python",
   "pygments_lexer": "ipython3",
   "version": "3.11.4"
  }
 },
 "nbformat": 4,
 "nbformat_minor": 2
}
